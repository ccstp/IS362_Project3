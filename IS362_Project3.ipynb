{
 "cells": [
  {
   "cell_type": "markdown",
   "id": "97547cbf",
   "metadata": {},
   "source": [
    "# IS 362 - Project 3\n",
    "\n",
    "### Your assignment involves combining information from a number of SQL tables, then displaying the information in a pandas DataFrame.\n",
    "\n",
    "### For your relational database management system, you may use any RDBMS, including MySQL, PostgreSQL, sqlite, or any of the other RDMBSs supported by the database in Step 1 below."
   ]
  },
  {
   "cell_type": "markdown",
   "id": "9e670b0d",
   "metadata": {},
   "source": [
    "### 1. For your database, you should download and install the appropriate version of the Chinook database for your RDBMS"
   ]
  },
  {
   "cell_type": "code",
   "execution_count": 1,
   "id": "bc074c1b",
   "metadata": {},
   "outputs": [],
   "source": [
    "# Import libraries \n",
    "import pymysql\n",
    "import pandas as pan\n",
    "\n",
    "# Connect to the Chinook database\n",
    "conn=pymysql.connect(host='localhost', port=int(3306),user='root',passwd='nRM8Qfa$PQJB', db='Chinook')"
   ]
  },
  {
   "cell_type": "markdown",
   "id": "7bea9e91",
   "metadata": {},
   "source": [
    "### 2. Your task is to create a pandas DataFrame that displays Customers’ Last Name and First Name, and each customer’s purchased Track names and Album Titles. The information should be sorted by Customer LastName then Customer FirstName."
   ]
  },
  {
   "cell_type": "code",
   "execution_count": 2,
   "id": "01d2b564",
   "metadata": {},
   "outputs": [],
   "source": [
    "# Read SQL query results into pandas\n",
    "\n",
    "songs = pan.read_sql_query(\"SELECT \\\n",
    "                            customer.LastName AS 'LastName',\\\n",
    "                            customer.FirstName AS 'FirstName', \\\n",
    "                            track.Name AS 'Name', \\\n",
    "                            album.Title AS 'Title' \\\n",
    "                            FROM customer \\\n",
    "                            JOIN invoice \\\n",
    "                                ON customer.CustomerId = invoice.CustomerId \\\n",
    "                            JOIN invoiceline \\\n",
    "                                ON invoice.InvoiceId = invoiceline.InvoiceId \\\n",
    "                            JOIN track \\\n",
    "                                ON invoiceline.TrackId = track.TrackId \\\n",
    "                            JOIN Album \\\n",
    "                                ON track.AlbumId = Album.AlbumId \\\n",
    "                            ORDER BY customer.LastName, customer.FirstName\", conn)"
   ]
  },
  {
   "cell_type": "code",
   "execution_count": 3,
   "id": "2a6b95e9",
   "metadata": {},
   "outputs": [
    {
     "data": {
      "text/html": [
       "<div>\n",
       "<style scoped>\n",
       "    .dataframe tbody tr th:only-of-type {\n",
       "        vertical-align: middle;\n",
       "    }\n",
       "\n",
       "    .dataframe tbody tr th {\n",
       "        vertical-align: top;\n",
       "    }\n",
       "\n",
       "    .dataframe thead th {\n",
       "        text-align: right;\n",
       "    }\n",
       "</style>\n",
       "<table border=\"1\" class=\"dataframe\">\n",
       "  <thead>\n",
       "    <tr style=\"text-align: right;\">\n",
       "      <th></th>\n",
       "      <th>LastName</th>\n",
       "      <th>FirstName</th>\n",
       "      <th>Name</th>\n",
       "      <th>Title</th>\n",
       "    </tr>\n",
       "  </thead>\n",
       "  <tbody>\n",
       "    <tr>\n",
       "      <th>0</th>\n",
       "      <td>Almeida</td>\n",
       "      <td>Roberto</td>\n",
       "      <td>Right Next Door to Hell</td>\n",
       "      <td>Use Your Illusion I</td>\n",
       "    </tr>\n",
       "    <tr>\n",
       "      <th>1</th>\n",
       "      <td>Almeida</td>\n",
       "      <td>Roberto</td>\n",
       "      <td>In The Evening</td>\n",
       "      <td>In Through The Out Door</td>\n",
       "    </tr>\n",
       "    <tr>\n",
       "      <th>2</th>\n",
       "      <td>Almeida</td>\n",
       "      <td>Roberto</td>\n",
       "      <td>Fool In The Rain</td>\n",
       "      <td>In Through The Out Door</td>\n",
       "    </tr>\n",
       "    <tr>\n",
       "      <th>3</th>\n",
       "      <td>Almeida</td>\n",
       "      <td>Roberto</td>\n",
       "      <td>Saudade Dos Aviões Da Panair (Conversando No Bar)</td>\n",
       "      <td>Minas</td>\n",
       "    </tr>\n",
       "    <tr>\n",
       "      <th>4</th>\n",
       "      <td>Almeida</td>\n",
       "      <td>Roberto</td>\n",
       "      <td>Caso Você Queira Saber</td>\n",
       "      <td>Minas</td>\n",
       "    </tr>\n",
       "    <tr>\n",
       "      <th>5</th>\n",
       "      <td>Almeida</td>\n",
       "      <td>Roberto</td>\n",
       "      <td>Dance</td>\n",
       "      <td>Ace Of Spades</td>\n",
       "    </tr>\n",
       "    <tr>\n",
       "      <th>6</th>\n",
       "      <td>Almeida</td>\n",
       "      <td>Roberto</td>\n",
       "      <td>Aos Leões</td>\n",
       "      <td>Demorou...</td>\n",
       "    </tr>\n",
       "    <tr>\n",
       "      <th>7</th>\n",
       "      <td>Almeida</td>\n",
       "      <td>Roberto</td>\n",
       "      <td>Demorou!</td>\n",
       "      <td>Demorou...</td>\n",
       "    </tr>\n",
       "    <tr>\n",
       "      <th>8</th>\n",
       "      <td>Almeida</td>\n",
       "      <td>Roberto</td>\n",
       "      <td>Home Sweet Home</td>\n",
       "      <td>Motley Crue Greatest Hits</td>\n",
       "    </tr>\n",
       "    <tr>\n",
       "      <th>9</th>\n",
       "      <td>Almeida</td>\n",
       "      <td>Roberto</td>\n",
       "      <td>Intro</td>\n",
       "      <td>From The Muddy Banks Of The Wishkah [Live]</td>\n",
       "    </tr>\n",
       "  </tbody>\n",
       "</table>\n",
       "</div>"
      ],
      "text/plain": [
       "  LastName FirstName                                               Name  \\\n",
       "0  Almeida   Roberto                            Right Next Door to Hell   \n",
       "1  Almeida   Roberto                                     In The Evening   \n",
       "2  Almeida   Roberto                                   Fool In The Rain   \n",
       "3  Almeida   Roberto  Saudade Dos Aviões Da Panair (Conversando No Bar)   \n",
       "4  Almeida   Roberto                             Caso Você Queira Saber   \n",
       "5  Almeida   Roberto                                              Dance   \n",
       "6  Almeida   Roberto                                          Aos Leões   \n",
       "7  Almeida   Roberto                                           Demorou!   \n",
       "8  Almeida   Roberto                                    Home Sweet Home   \n",
       "9  Almeida   Roberto                                              Intro   \n",
       "\n",
       "                                        Title  \n",
       "0                         Use Your Illusion I  \n",
       "1                     In Through The Out Door  \n",
       "2                     In Through The Out Door  \n",
       "3                                       Minas  \n",
       "4                                       Minas  \n",
       "5                               Ace Of Spades  \n",
       "6                                  Demorou...  \n",
       "7                                  Demorou...  \n",
       "8                   Motley Crue Greatest Hits  \n",
       "9  From The Muddy Banks Of The Wishkah [Live]  "
      ]
     },
     "execution_count": 3,
     "metadata": {},
     "output_type": "execute_result"
    }
   ],
   "source": [
    "# Display the information in the dataframe\n",
    "songs.head(10)"
   ]
  }
 ],
 "metadata": {
  "kernelspec": {
   "display_name": "Python 3 (ipykernel)",
   "language": "python",
   "name": "python3"
  },
  "language_info": {
   "codemirror_mode": {
    "name": "ipython",
    "version": 3
   },
   "file_extension": ".py",
   "mimetype": "text/x-python",
   "name": "python",
   "nbconvert_exporter": "python",
   "pygments_lexer": "ipython3",
   "version": "3.9.7"
  }
 },
 "nbformat": 4,
 "nbformat_minor": 5
}
